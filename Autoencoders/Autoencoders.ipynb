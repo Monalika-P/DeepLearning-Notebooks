{
  "nbformat": 4,
  "nbformat_minor": 0,
  "metadata": {
    "colab": {
      "name": "Autoencoders.ipynb",
      "provenance": [],
      "collapsed_sections": [],
      "authorship_tag": "ABX9TyO6eRsxljbc1i+R1bHKDzL2",
      "include_colab_link": true
    },
    "kernelspec": {
      "name": "python3",
      "display_name": "Python 3"
    },
    "accelerator": "TPU"
  },
  "cells": [
    {
      "cell_type": "markdown",
      "metadata": {
        "id": "view-in-github",
        "colab_type": "text"
      },
      "source": [
        "<a href=\"https://colab.research.google.com/github/Monalika-P/DeepLearning-Notebooks/blob/master/Autoencoders/Autoencoders.ipynb\" target=\"_parent\"><img src=\"https://colab.research.google.com/assets/colab-badge.svg\" alt=\"Open In Colab\"/></a>"
      ]
    },
    {
      "cell_type": "markdown",
      "metadata": {
        "id": "Yuw0mYADpKVj",
        "colab_type": "text"
      },
      "source": [
        "Autoencoders are unsupervised machine learning techniques.Here, the neural networks are levered for the task of representation learning.\n",
        "\n",
        "Uses:\n",
        "\n",
        "*   Dimentionality reduction\n",
        "*   Image reconstruction\n",
        "*   Image compression\n",
        "*   Image denoising\n",
        "*   Recommendation system\n",
        "\n",
        "\n",
        "\n"
      ]
    },
    {
      "cell_type": "code",
      "metadata": {
        "id": "--e5tQlzoT_5",
        "colab_type": "code",
        "colab": {
          "base_uri": "https://localhost:8080/",
          "height": 34
        },
        "outputId": "448673db-dab9-48a5-b8a9-a1cd51ba7895"
      },
      "source": [
        "'''\n",
        "  @ Monalika P\n",
        "  Auto Encoders\n",
        "'''\n",
        "#Importing the libararies\n",
        "import numpy as np\n",
        "import tensorflow as tf\n",
        "import keras"
      ],
      "execution_count": 21,
      "outputs": [
        {
          "output_type": "stream",
          "text": [
            "Using TensorFlow backend.\n"
          ],
          "name": "stderr"
        }
      ]
    },
    {
      "cell_type": "code",
      "metadata": {
        "id": "9c40BM7HqWnu",
        "colab_type": "code",
        "colab": {}
      },
      "source": [
        "from keras.layers import Input, Dense\n",
        "from keras.models import Model"
      ],
      "execution_count": 22,
      "outputs": []
    },
    {
      "cell_type": "code",
      "metadata": {
        "id": "kTszaLzQqoaW",
        "colab_type": "code",
        "colab": {}
      },
      "source": [
        "# The size of our encoded representations\n",
        "encoding_dim = 32"
      ],
      "execution_count": 23,
      "outputs": []
    },
    {
      "cell_type": "code",
      "metadata": {
        "id": "G4TBbRW8q27s",
        "colab_type": "code",
        "colab": {}
      },
      "source": [
        "# This is our input placeholder\n",
        "input_img = Input(shape=(784,))"
      ],
      "execution_count": 24,
      "outputs": []
    },
    {
      "cell_type": "code",
      "metadata": {
        "id": "9QzGOsXLq_QD",
        "colab_type": "code",
        "colab": {}
      },
      "source": [
        "# \"encoded\" is the encoded representation of the input\n",
        "encoded = Dense(encoding_dim, activation='relu')(input_img)"
      ],
      "execution_count": 25,
      "outputs": []
    },
    {
      "cell_type": "code",
      "metadata": {
        "id": "sBPg1rkWrSbn",
        "colab_type": "code",
        "colab": {}
      },
      "source": [
        "# \"decoded\" is the lossy reconstruction of the input\n",
        "decoded = Dense( 784, activation='sigmoid')(encoded)"
      ],
      "execution_count": 26,
      "outputs": []
    },
    {
      "cell_type": "code",
      "metadata": {
        "id": "ekiZMEPHrfnX",
        "colab_type": "code",
        "colab": {}
      },
      "source": [
        "#This model maps an input to its reconstruction\n",
        "autoencoder = Model(input_img, decoded)"
      ],
      "execution_count": 27,
      "outputs": []
    },
    {
      "cell_type": "markdown",
      "metadata": {
        "id": "2mEhv88tsHL1",
        "colab_type": "text"
      },
      "source": [
        " Creating a separate encoder and a decoder model"
      ]
    },
    {
      "cell_type": "code",
      "metadata": {
        "id": "iZyUvmuIrql3",
        "colab_type": "code",
        "colab": {}
      },
      "source": [
        "# This model maps an input to its encoded representation\n",
        "encoder = Model(input_img, encoded)"
      ],
      "execution_count": 28,
      "outputs": []
    },
    {
      "cell_type": "code",
      "metadata": {
        "id": "SC1QvRoysAac",
        "colab_type": "code",
        "colab": {}
      },
      "source": [
        "# create a placeholder for an encoded (32-dimensional) input\n",
        "encoded_input = Input(shape=(encoding_dim,))"
      ],
      "execution_count": 29,
      "outputs": []
    },
    {
      "cell_type": "code",
      "metadata": {
        "id": "7qHsEPbBsZHp",
        "colab_type": "code",
        "colab": {}
      },
      "source": [
        "# retrieve the last layer of the autoencoder model\n",
        "decoder_layer = autoencoder.layers[-1]\n",
        "# -1 is user for retival of the last layer which basically contains the output"
      ],
      "execution_count": 30,
      "outputs": []
    },
    {
      "cell_type": "code",
      "metadata": {
        "id": "G5xv2M5vscDp",
        "colab_type": "code",
        "colab": {}
      },
      "source": [
        "# create the decoder model\n",
        "decoder = Model(encoded_input, decoder_layer(encoded_input))"
      ],
      "execution_count": 31,
      "outputs": []
    },
    {
      "cell_type": "markdown",
      "metadata": {
        "id": "pS6pKeJwssFV",
        "colab_type": "text"
      },
      "source": [
        "Compiling the model"
      ]
    },
    {
      "cell_type": "code",
      "metadata": {
        "id": "oaakFMu_shPz",
        "colab_type": "code",
        "colab": {}
      },
      "source": [
        "autoencoder.compile(optimizer='adadelta', loss='binary_crossentropy',metrics=['accuracy'])"
      ],
      "execution_count": 32,
      "outputs": []
    },
    {
      "cell_type": "code",
      "metadata": {
        "id": "yFBPXHO9sxic",
        "colab_type": "code",
        "colab": {}
      },
      "source": [
        "#Importing the dataset\n",
        "from keras.datasets import mnist\n",
        "(x_train, _), (x_test, _) = mnist.load_data()"
      ],
      "execution_count": 33,
      "outputs": []
    },
    {
      "cell_type": "code",
      "metadata": {
        "id": "NdZshFf2tnQ3",
        "colab_type": "code",
        "colab": {
          "base_uri": "https://localhost:8080/",
          "height": 52
        },
        "outputId": "128c2768-da4d-40a6-97b6-fb59520d4072"
      },
      "source": [
        "#Normalizing the dataset\n",
        "x_train = x_train.astype('float32') / 255.\n",
        "x_test = x_test.astype('float32') / 255.\n",
        "\n",
        "print(x_train.shape)\n",
        "print(x_test.shape)"
      ],
      "execution_count": 34,
      "outputs": [
        {
          "output_type": "stream",
          "text": [
            "(60000, 28, 28)\n",
            "(10000, 28, 28)\n"
          ],
          "name": "stdout"
        }
      ]
    },
    {
      "cell_type": "code",
      "metadata": {
        "id": "hrFgLp84tzxm",
        "colab_type": "code",
        "colab": {
          "base_uri": "https://localhost:8080/",
          "height": 52
        },
        "outputId": "03fd21b6-b29d-4b31-8530-67c3971ec17b"
      },
      "source": [
        "x_train = x_train.reshape((len(x_train), np.prod(x_train.shape[1:])))\n",
        "x_test = x_test.reshape((len(x_test), np.prod(x_test.shape[1:])))\n",
        "print (x_train.shape)\n",
        "print (x_test.shape)"
      ],
      "execution_count": 35,
      "outputs": [
        {
          "output_type": "stream",
          "text": [
            "(60000, 784)\n",
            "(10000, 784)\n"
          ],
          "name": "stdout"
        }
      ]
    },
    {
      "cell_type": "markdown",
      "metadata": {
        "id": "55kKW1h7vgTP",
        "colab_type": "text"
      },
      "source": [
        "Training the model"
      ]
    },
    {
      "cell_type": "code",
      "metadata": {
        "id": "A75xRCOvux-G",
        "colab_type": "code",
        "colab": {
          "base_uri": "https://localhost:8080/",
          "height": 1000
        },
        "outputId": "2795ba81-243d-46bc-afd6-be6e0d144ae8"
      },
      "source": [
        "autoencoder.fit(x_train, x_train,\n",
        "                epochs=50,\n",
        "                batch_size=256,\n",
        "                shuffle=True,\n",
        "                validation_data=(x_test, x_test),\n",
        "                verbose = 1)"
      ],
      "execution_count": 36,
      "outputs": [
        {
          "output_type": "stream",
          "text": [
            "Train on 60000 samples, validate on 10000 samples\n",
            "Epoch 1/50\n",
            "60000/60000 [==============================] - 3s 43us/step - loss: 0.3554 - accuracy: 0.7571 - val_loss: 0.2709 - val_accuracy: 0.7948\n",
            "Epoch 2/50\n",
            "60000/60000 [==============================] - 2s 42us/step - loss: 0.2634 - accuracy: 0.7973 - val_loss: 0.2523 - val_accuracy: 0.7974\n",
            "Epoch 3/50\n",
            "60000/60000 [==============================] - 3s 42us/step - loss: 0.2417 - accuracy: 0.7974 - val_loss: 0.2290 - val_accuracy: 0.7963\n",
            "Epoch 4/50\n",
            "60000/60000 [==============================] - 2s 41us/step - loss: 0.2213 - accuracy: 0.7975 - val_loss: 0.2114 - val_accuracy: 0.7969\n",
            "Epoch 5/50\n",
            "60000/60000 [==============================] - 3s 42us/step - loss: 0.2065 - accuracy: 0.7984 - val_loss: 0.1990 - val_accuracy: 0.7988\n",
            "Epoch 6/50\n",
            "60000/60000 [==============================] - 3s 43us/step - loss: 0.1956 - accuracy: 0.7996 - val_loss: 0.1894 - val_accuracy: 0.7998\n",
            "Epoch 7/50\n",
            "60000/60000 [==============================] - 3s 43us/step - loss: 0.1870 - accuracy: 0.8008 - val_loss: 0.1818 - val_accuracy: 0.8013\n",
            "Epoch 8/50\n",
            "60000/60000 [==============================] - 2s 41us/step - loss: 0.1799 - accuracy: 0.8020 - val_loss: 0.1753 - val_accuracy: 0.8022\n",
            "Epoch 9/50\n",
            "60000/60000 [==============================] - 2s 42us/step - loss: 0.1740 - accuracy: 0.8030 - val_loss: 0.1699 - val_accuracy: 0.8029\n",
            "Epoch 10/50\n",
            "60000/60000 [==============================] - 2s 42us/step - loss: 0.1690 - accuracy: 0.8039 - val_loss: 0.1653 - val_accuracy: 0.8041\n",
            "Epoch 11/50\n",
            "60000/60000 [==============================] - 3s 42us/step - loss: 0.1646 - accuracy: 0.8046 - val_loss: 0.1611 - val_accuracy: 0.8045\n",
            "Epoch 12/50\n",
            "60000/60000 [==============================] - 2s 41us/step - loss: 0.1606 - accuracy: 0.8053 - val_loss: 0.1573 - val_accuracy: 0.8048\n",
            "Epoch 13/50\n",
            "60000/60000 [==============================] - 3s 42us/step - loss: 0.1570 - accuracy: 0.8059 - val_loss: 0.1538 - val_accuracy: 0.8059\n",
            "Epoch 14/50\n",
            "60000/60000 [==============================] - 3s 42us/step - loss: 0.1535 - accuracy: 0.8065 - val_loss: 0.1504 - val_accuracy: 0.8063\n",
            "Epoch 15/50\n",
            "60000/60000 [==============================] - 3s 43us/step - loss: 0.1502 - accuracy: 0.8071 - val_loss: 0.1471 - val_accuracy: 0.8068\n",
            "Epoch 16/50\n",
            "60000/60000 [==============================] - 3s 42us/step - loss: 0.1471 - accuracy: 0.8076 - val_loss: 0.1441 - val_accuracy: 0.8073\n",
            "Epoch 17/50\n",
            "60000/60000 [==============================] - 2s 42us/step - loss: 0.1441 - accuracy: 0.8081 - val_loss: 0.1412 - val_accuracy: 0.8077\n",
            "Epoch 18/50\n",
            "60000/60000 [==============================] - 3s 43us/step - loss: 0.1414 - accuracy: 0.8085 - val_loss: 0.1386 - val_accuracy: 0.8082\n",
            "Epoch 19/50\n",
            "60000/60000 [==============================] - 3s 49us/step - loss: 0.1389 - accuracy: 0.8089 - val_loss: 0.1362 - val_accuracy: 0.8086\n",
            "Epoch 20/50\n",
            "60000/60000 [==============================] - 3s 49us/step - loss: 0.1366 - accuracy: 0.8093 - val_loss: 0.1339 - val_accuracy: 0.8088\n",
            "Epoch 21/50\n",
            "60000/60000 [==============================] - 3s 50us/step - loss: 0.1344 - accuracy: 0.8096 - val_loss: 0.1317 - val_accuracy: 0.8090\n",
            "Epoch 22/50\n",
            "60000/60000 [==============================] - 3s 49us/step - loss: 0.1323 - accuracy: 0.8099 - val_loss: 0.1297 - val_accuracy: 0.8094\n",
            "Epoch 23/50\n",
            "60000/60000 [==============================] - 3s 47us/step - loss: 0.1303 - accuracy: 0.8102 - val_loss: 0.1278 - val_accuracy: 0.8098\n",
            "Epoch 24/50\n",
            "60000/60000 [==============================] - 3s 46us/step - loss: 0.1285 - accuracy: 0.8105 - val_loss: 0.1260 - val_accuracy: 0.8099\n",
            "Epoch 25/50\n",
            "60000/60000 [==============================] - 3s 46us/step - loss: 0.1267 - accuracy: 0.8108 - val_loss: 0.1243 - val_accuracy: 0.8102\n",
            "Epoch 26/50\n",
            "60000/60000 [==============================] - 3s 46us/step - loss: 0.1250 - accuracy: 0.8110 - val_loss: 0.1226 - val_accuracy: 0.8104\n",
            "Epoch 27/50\n",
            "60000/60000 [==============================] - 3s 47us/step - loss: 0.1234 - accuracy: 0.8112 - val_loss: 0.1210 - val_accuracy: 0.8105\n",
            "Epoch 28/50\n",
            "60000/60000 [==============================] - 3s 46us/step - loss: 0.1219 - accuracy: 0.8114 - val_loss: 0.1196 - val_accuracy: 0.8108\n",
            "Epoch 29/50\n",
            "60000/60000 [==============================] - 3s 45us/step - loss: 0.1205 - accuracy: 0.8116 - val_loss: 0.1181 - val_accuracy: 0.8109\n",
            "Epoch 30/50\n",
            "60000/60000 [==============================] - 3s 45us/step - loss: 0.1192 - accuracy: 0.8118 - val_loss: 0.1168 - val_accuracy: 0.8110\n",
            "Epoch 31/50\n",
            "60000/60000 [==============================] - 3s 43us/step - loss: 0.1179 - accuracy: 0.8120 - val_loss: 0.1156 - val_accuracy: 0.8111\n",
            "Epoch 32/50\n",
            "60000/60000 [==============================] - 3s 44us/step - loss: 0.1167 - accuracy: 0.8121 - val_loss: 0.1145 - val_accuracy: 0.8114\n",
            "Epoch 33/50\n",
            "60000/60000 [==============================] - 3s 43us/step - loss: 0.1156 - accuracy: 0.8123 - val_loss: 0.1134 - val_accuracy: 0.8115\n",
            "Epoch 34/50\n",
            "60000/60000 [==============================] - 3s 43us/step - loss: 0.1146 - accuracy: 0.8124 - val_loss: 0.1124 - val_accuracy: 0.8116\n",
            "Epoch 35/50\n",
            "60000/60000 [==============================] - 3s 44us/step - loss: 0.1137 - accuracy: 0.8125 - val_loss: 0.1115 - val_accuracy: 0.8117\n",
            "Epoch 36/50\n",
            "60000/60000 [==============================] - 3s 44us/step - loss: 0.1128 - accuracy: 0.8126 - val_loss: 0.1107 - val_accuracy: 0.8118\n",
            "Epoch 37/50\n",
            "60000/60000 [==============================] - 3s 44us/step - loss: 0.1120 - accuracy: 0.8127 - val_loss: 0.1099 - val_accuracy: 0.8119\n",
            "Epoch 38/50\n",
            "60000/60000 [==============================] - 3s 45us/step - loss: 0.1112 - accuracy: 0.8127 - val_loss: 0.1091 - val_accuracy: 0.8120\n",
            "Epoch 39/50\n",
            "60000/60000 [==============================] - 3s 43us/step - loss: 0.1105 - accuracy: 0.8128 - val_loss: 0.1084 - val_accuracy: 0.8121\n",
            "Epoch 40/50\n",
            "60000/60000 [==============================] - 2s 41us/step - loss: 0.1098 - accuracy: 0.8129 - val_loss: 0.1078 - val_accuracy: 0.8121\n",
            "Epoch 41/50\n",
            "60000/60000 [==============================] - 3s 42us/step - loss: 0.1092 - accuracy: 0.8129 - val_loss: 0.1072 - val_accuracy: 0.8121\n",
            "Epoch 42/50\n",
            "60000/60000 [==============================] - 2s 41us/step - loss: 0.1086 - accuracy: 0.8130 - val_loss: 0.1066 - val_accuracy: 0.8122\n",
            "Epoch 43/50\n",
            "60000/60000 [==============================] - 3s 43us/step - loss: 0.1081 - accuracy: 0.8130 - val_loss: 0.1061 - val_accuracy: 0.8122\n",
            "Epoch 44/50\n",
            "60000/60000 [==============================] - 3s 42us/step - loss: 0.1075 - accuracy: 0.8131 - val_loss: 0.1056 - val_accuracy: 0.8122\n",
            "Epoch 45/50\n",
            "60000/60000 [==============================] - 3s 42us/step - loss: 0.1071 - accuracy: 0.8131 - val_loss: 0.1051 - val_accuracy: 0.8123\n",
            "Epoch 46/50\n",
            "60000/60000 [==============================] - 3s 42us/step - loss: 0.1066 - accuracy: 0.8132 - val_loss: 0.1047 - val_accuracy: 0.8124\n",
            "Epoch 47/50\n",
            "60000/60000 [==============================] - 3s 42us/step - loss: 0.1062 - accuracy: 0.8132 - val_loss: 0.1043 - val_accuracy: 0.8124\n",
            "Epoch 48/50\n",
            "60000/60000 [==============================] - 2s 41us/step - loss: 0.1058 - accuracy: 0.8132 - val_loss: 0.1039 - val_accuracy: 0.8124\n",
            "Epoch 49/50\n",
            "60000/60000 [==============================] - 3s 42us/step - loss: 0.1055 - accuracy: 0.8133 - val_loss: 0.1036 - val_accuracy: 0.8125\n",
            "Epoch 50/50\n",
            "60000/60000 [==============================] - 3s 43us/step - loss: 0.1051 - accuracy: 0.8133 - val_loss: 0.1033 - val_accuracy: 0.8124\n"
          ],
          "name": "stdout"
        },
        {
          "output_type": "execute_result",
          "data": {
            "text/plain": [
              "<keras.callbacks.callbacks.History at 0x7f7630378f28>"
            ]
          },
          "metadata": {
            "tags": []
          },
          "execution_count": 36
        }
      ]
    },
    {
      "cell_type": "code",
      "metadata": {
        "id": "P5k0sTuGvsEH",
        "colab_type": "code",
        "colab": {}
      },
      "source": [
        "# encode and decode some digits\n",
        "# note that we take them from the *test* set\n",
        "encoded_imgs = encoder.predict(x_test)\n",
        "decoded_imgs = decoder.predict(encoded_imgs)"
      ],
      "execution_count": 37,
      "outputs": []
    },
    {
      "cell_type": "code",
      "metadata": {
        "id": "Bhv86RATxvfA",
        "colab_type": "code",
        "colab": {
          "base_uri": "https://localhost:8080/",
          "height": 149
        },
        "outputId": "88c15270-760a-479a-9bfc-13e12008658b"
      },
      "source": [
        "import matplotlib.pyplot as plt\n",
        "\n",
        "n = 10  # how many digits we will display\n",
        "plt.figure(figsize=(20, 4))\n",
        "for i in range(n):\n",
        "    # display original\n",
        "    ax = plt.subplot(2, n, i + 1)\n",
        "    plt.imshow(x_test[i].reshape(28, 28))\n",
        "    plt.gray()\n",
        "    ax.get_xaxis().set_visible(False)\n",
        "    ax.get_yaxis().set_visible(False)\n",
        "\n",
        "    # display reconstruction\n",
        "    ax = plt.subplot(2, n, i + 1 + n)\n",
        "    plt.imshow(decoded_imgs[i].reshape(28, 28))\n",
        "    plt.gray()\n",
        "    ax.get_xaxis().set_visible(False)\n",
        "    ax.get_yaxis().set_visible(False)\n",
        "plt.show()"
      ],
      "execution_count": 38,
      "outputs": [
        {
          "output_type": "display_data",
          "data": {
            "image/png": "[encoded data removed]",
            "text/plain": [
              "<Figure size 1440x288 with 20 Axes>"
            ]
          },
          "metadata": {
            "tags": [],
            "needs_background": "light"
          }
        }
      ]
    },
    {
      "cell_type": "code",
      "metadata": {
        "id": "en7WzbOPx2PQ",
        "colab_type": "code",
        "colab": {}
      },
      "source": [
        ""
      ],
      "execution_count": 38,
      "outputs": []
    }
  ]
}