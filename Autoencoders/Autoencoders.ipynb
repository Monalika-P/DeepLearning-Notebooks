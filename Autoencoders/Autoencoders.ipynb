{
  "nbformat": 4,
  "nbformat_minor": 0,
  "metadata": {
    "colab": {
      "name": "Autoencoders.ipynb",
      "provenance": [],
      "collapsed_sections": [],
      "authorship_tag": "ABX9TyO6eRsxljbc1i+R1bHKDzL2",
      "include_colab_link": true
    },
    "kernelspec": {
      "name": "python3",
      "display_name": "Python 3"
    },
    "accelerator": "TPU"
  },
  "cells": [
    {
      "cell_type": "markdown",
      "metadata": {
        "id": "view-in-github",
        "colab_type": "text"
      },
      "source": [
        "<a href=\"https://colab.research.google.com/github/Monalika-P/DeepLearning-Notebooks/blob/master/Autoencoders/Autoencoders.ipynb\" target=\"_parent\"><img src=\"https://colab.research.google.com/assets/colab-badge.svg\" alt=\"Open In Colab\"/></a>"
      ]
    },
    {
      "cell_type": "markdown",
      "metadata": {
        "id": "Yuw0mYADpKVj",
        "colab_type": "text"
      },
      "source": [
        "Autoencoders are unsupervised machine learning techniques.Here, the neural networks are levered for the task of representation learning.\n",
        "\n",
        "Uses:\n",
        "\n",
        "*   Dimentionality reduction\n",
        "*   Image reconstruction\n",
        "*   Image compression\n",
        "*   Image denoising\n",
        "*   Recommendation system\n",
        "\n",
        "\n",
        "\n"
      ]
    },
    {
      "cell_type": "code",
      "metadata": {
        "id": "--e5tQlzoT_5",
        "colab_type": "code",
        "colab": {}
      },
      "source": [
        "'''\n",
        "  @ Monalika P\n",
        "  Auto Encoders\n",
        "'''\n",
        "#Importing the libararies\n",
        "import numpy as np\n",
        "import tensorflow as tf\n",
        "import keras"
      ],
      "execution_count": 39,
      "outputs": []
    },
    {
      "cell_type": "code",
      "metadata": {
        "id": "9c40BM7HqWnu",
        "colab_type": "code",
        "colab": {}
      },
      "source": [
        "from keras.layers import Input, Dense\n",
        "from keras.models import Model"
      ],
      "execution_count": 40,
      "outputs": []
    },
    {
      "cell_type": "code",
      "metadata": {
        "id": "kTszaLzQqoaW",
        "colab_type": "code",
        "colab": {}
      },
      "source": [
        "# The size of our encoded representations\n",
        "encoding_dim = 32"
      ],
      "execution_count": 41,
      "outputs": []
    },
    {
      "cell_type": "code",
      "metadata": {
        "id": "G4TBbRW8q27s",
        "colab_type": "code",
        "colab": {}
      },
      "source": [
        "# This is our input placeholder\n",
        "input_img = Input(shape=(784,))"
      ],
      "execution_count": 42,
      "outputs": []
    },
    {
      "cell_type": "code",
      "metadata": {
        "id": "9QzGOsXLq_QD",
        "colab_type": "code",
        "colab": {}
      },
      "source": [
        "# \"encoded\" is the encoded representation of the input\n",
        "encoded = Dense(encoding_dim, activation='relu')(input_img)"
      ],
      "execution_count": 43,
      "outputs": []
    },
    {
      "cell_type": "code",
      "metadata": {
        "id": "sBPg1rkWrSbn",
        "colab_type": "code",
        "colab": {}
      },
      "source": [
        "# \"decoded\" is the lossy reconstruction of the input\n",
        "decoded = Dense( 784, activation='sigmoid')(encoded)"
      ],
      "execution_count": 44,
      "outputs": []
    },
    {
      "cell_type": "code",
      "metadata": {
        "id": "ekiZMEPHrfnX",
        "colab_type": "code",
        "colab": {}
      },
      "source": [
        "#This model maps an input to its reconstruction\n",
        "autoencoder = Model(input_img, decoded)"
      ],
      "execution_count": 45,
      "outputs": []
    },
    {
      "cell_type": "markdown",
      "metadata": {
        "id": "2mEhv88tsHL1",
        "colab_type": "text"
      },
      "source": [
        " Creating a separate encoder and a decoder model"
      ]
    },
    {
      "cell_type": "code",
      "metadata": {
        "id": "iZyUvmuIrql3",
        "colab_type": "code",
        "colab": {}
      },
      "source": [
        "# This model maps an input to its encoded representation\n",
        "encoder = Model(input_img, encoded)"
      ],
      "execution_count": 46,
      "outputs": []
    },
    {
      "cell_type": "code",
      "metadata": {
        "id": "SC1QvRoysAac",
        "colab_type": "code",
        "colab": {}
      },
      "source": [
        "# create a placeholder for an encoded (32-dimensional) input\n",
        "encoded_input = Input(shape=(encoding_dim,))"
      ],
      "execution_count": 47,
      "outputs": []
    },
    {
      "cell_type": "code",
      "metadata": {
        "id": "7qHsEPbBsZHp",
        "colab_type": "code",
        "colab": {}
      },
      "source": [
        "# retrieve the last layer of the autoencoder model\n",
        "decoder_layer = autoencoder.layers[-1]\n",
        "# -1 is user for retival of the last layer which basically contains the output"
      ],
      "execution_count": 48,
      "outputs": []
    },
    {
      "cell_type": "code",
      "metadata": {
        "id": "G5xv2M5vscDp",
        "colab_type": "code",
        "colab": {}
      },
      "source": [
        "# create the decoder model\n",
        "decoder = Model(encoded_input, decoder_layer(encoded_input))"
      ],
      "execution_count": 49,
      "outputs": []
    },
    {
      "cell_type": "markdown",
      "metadata": {
        "id": "pS6pKeJwssFV",
        "colab_type": "text"
      },
      "source": [
        "Compiling the model"
      ]
    },
    {
      "cell_type": "code",
      "metadata": {
        "id": "oaakFMu_shPz",
        "colab_type": "code",
        "colab": {}
      },
      "source": [
        "autoencoder.compile(optimizer='adadelta', loss='binary_crossentropy',metrics=['accuracy'])"
      ],
      "execution_count": 50,
      "outputs": []
    },
    {
      "cell_type": "code",
      "metadata": {
        "id": "yFBPXHO9sxic",
        "colab_type": "code",
        "colab": {}
      },
      "source": [
        "#Importing the dataset\n",
        "from keras.datasets import mnist\n",
        "(x_train, _), (x_test, _) = mnist.load_data()"
      ],
      "execution_count": 51,
      "outputs": []
    },
    {
      "cell_type": "code",
      "metadata": {
        "id": "NdZshFf2tnQ3",
        "colab_type": "code",
        "colab": {
          "base_uri": "https://localhost:8080/",
          "height": 52
        },
        "outputId": "38e83332-ba72-432a-99b0-6ba8578ff675"
      },
      "source": [
        "#Normalizing the dataset\n",
        "x_train = x_train.astype('float32') / 255.\n",
        "x_test = x_test.astype('float32') / 255.\n",
        "\n",
        "print(x_train.shape)\n",
        "print(x_test.shape)"
      ],
      "execution_count": 52,
      "outputs": [
        {
          "output_type": "stream",
          "text": [
            "(60000, 28, 28)\n",
            "(10000, 28, 28)\n"
          ],
          "name": "stdout"
        }
      ]
    },
    {
      "cell_type": "code",
      "metadata": {
        "id": "hrFgLp84tzxm",
        "colab_type": "code",
        "colab": {
          "base_uri": "https://localhost:8080/",
          "height": 52
        },
        "outputId": "b1f46304-11be-4d77-d623-38999e225d68"
      },
      "source": [
        "x_train = x_train.reshape((len(x_train), np.prod(x_train.shape[1:])))\n",
        "x_test = x_test.reshape((len(x_test), np.prod(x_test.shape[1:])))\n",
        "print (x_train.shape)\n",
        "print (x_test.shape)"
      ],
      "execution_count": 53,
      "outputs": [
        {
          "output_type": "stream",
          "text": [
            "(60000, 784)\n",
            "(10000, 784)\n"
          ],
          "name": "stdout"
        }
      ]
    },
    {
      "cell_type": "markdown",
      "metadata": {
        "id": "55kKW1h7vgTP",
        "colab_type": "text"
      },
      "source": [
        "Training the model"
      ]
    },
    {
      "cell_type": "code",
      "metadata": {
        "id": "A75xRCOvux-G",
        "colab_type": "code",
        "colab": {
          "base_uri": "https://localhost:8080/",
          "height": 1000
        },
        "outputId": "f24bca66-fff8-45a8-deb1-3b17fdc1141f"
      },
      "source": [
        "autoencoder.fit(x_train, x_train,\n",
        "                epochs=50,\n",
        "                batch_size=256,\n",
        "                shuffle=True,\n",
        "                validation_data=(x_test, x_test),\n",
        "                verbose = 1)"
      ],
      "execution_count": 54,
      "outputs": [
        {
          "output_type": "stream",
          "text": [
            "Train on 60000 samples, validate on 10000 samples\n",
            "Epoch 1/50\n",
            "60000/60000 [==============================] - 3s 48us/step - loss: 0.3548 - accuracy: 0.7545 - val_loss: 0.2709 - val_accuracy: 0.7940\n",
            "Epoch 2/50\n",
            "60000/60000 [==============================] - 3s 45us/step - loss: 0.2630 - accuracy: 0.7968 - val_loss: 0.2511 - val_accuracy: 0.7971\n",
            "Epoch 3/50\n",
            "60000/60000 [==============================] - 3s 45us/step - loss: 0.2406 - accuracy: 0.7970 - val_loss: 0.2282 - val_accuracy: 0.7962\n",
            "Epoch 4/50\n",
            "60000/60000 [==============================] - 3s 45us/step - loss: 0.2206 - accuracy: 0.7972 - val_loss: 0.2106 - val_accuracy: 0.7973\n",
            "Epoch 5/50\n",
            "60000/60000 [==============================] - 3s 44us/step - loss: 0.2057 - accuracy: 0.7984 - val_loss: 0.1982 - val_accuracy: 0.7990\n",
            "Epoch 6/50\n",
            "60000/60000 [==============================] - 3s 45us/step - loss: 0.1949 - accuracy: 0.7996 - val_loss: 0.1891 - val_accuracy: 0.8005\n",
            "Epoch 7/50\n",
            "60000/60000 [==============================] - 3s 45us/step - loss: 0.1865 - accuracy: 0.8009 - val_loss: 0.1814 - val_accuracy: 0.8014\n",
            "Epoch 8/50\n",
            "60000/60000 [==============================] - 3s 46us/step - loss: 0.1794 - accuracy: 0.8021 - val_loss: 0.1746 - val_accuracy: 0.8022\n",
            "Epoch 9/50\n",
            "60000/60000 [==============================] - 3s 46us/step - loss: 0.1732 - accuracy: 0.8032 - val_loss: 0.1691 - val_accuracy: 0.8036\n",
            "Epoch 10/50\n",
            "60000/60000 [==============================] - 3s 46us/step - loss: 0.1679 - accuracy: 0.8041 - val_loss: 0.1640 - val_accuracy: 0.8043\n",
            "Epoch 11/50\n",
            "60000/60000 [==============================] - 3s 46us/step - loss: 0.1633 - accuracy: 0.8049 - val_loss: 0.1596 - val_accuracy: 0.8045\n",
            "Epoch 12/50\n",
            "60000/60000 [==============================] - 3s 45us/step - loss: 0.1592 - accuracy: 0.8055 - val_loss: 0.1557 - val_accuracy: 0.8052\n",
            "Epoch 13/50\n",
            "60000/60000 [==============================] - 3s 45us/step - loss: 0.1555 - accuracy: 0.8062 - val_loss: 0.1522 - val_accuracy: 0.8060\n",
            "Epoch 14/50\n",
            "60000/60000 [==============================] - 3s 46us/step - loss: 0.1521 - accuracy: 0.8067 - val_loss: 0.1489 - val_accuracy: 0.8061\n",
            "Epoch 15/50\n",
            "60000/60000 [==============================] - 3s 44us/step - loss: 0.1489 - accuracy: 0.8072 - val_loss: 0.1459 - val_accuracy: 0.8069\n",
            "Epoch 16/50\n",
            "60000/60000 [==============================] - 3s 45us/step - loss: 0.1460 - accuracy: 0.8077 - val_loss: 0.1432 - val_accuracy: 0.8076\n",
            "Epoch 17/50\n",
            "60000/60000 [==============================] - 3s 46us/step - loss: 0.1433 - accuracy: 0.8082 - val_loss: 0.1404 - val_accuracy: 0.8077\n",
            "Epoch 18/50\n",
            "60000/60000 [==============================] - 3s 45us/step - loss: 0.1407 - accuracy: 0.8086 - val_loss: 0.1380 - val_accuracy: 0.8083\n",
            "Epoch 19/50\n",
            "60000/60000 [==============================] - 3s 45us/step - loss: 0.1383 - accuracy: 0.8090 - val_loss: 0.1355 - val_accuracy: 0.8085\n",
            "Epoch 20/50\n",
            "60000/60000 [==============================] - 3s 46us/step - loss: 0.1360 - accuracy: 0.8093 - val_loss: 0.1333 - val_accuracy: 0.8088\n",
            "Epoch 21/50\n",
            "60000/60000 [==============================] - 3s 45us/step - loss: 0.1338 - accuracy: 0.8097 - val_loss: 0.1312 - val_accuracy: 0.8092\n",
            "Epoch 22/50\n",
            "60000/60000 [==============================] - 3s 46us/step - loss: 0.1318 - accuracy: 0.8100 - val_loss: 0.1292 - val_accuracy: 0.8096\n",
            "Epoch 23/50\n",
            "60000/60000 [==============================] - 3s 49us/step - loss: 0.1298 - accuracy: 0.8103 - val_loss: 0.1273 - val_accuracy: 0.8098\n",
            "Epoch 24/50\n",
            "60000/60000 [==============================] - 3s 50us/step - loss: 0.1279 - accuracy: 0.8106 - val_loss: 0.1255 - val_accuracy: 0.8101\n",
            "Epoch 25/50\n",
            "60000/60000 [==============================] - 3s 52us/step - loss: 0.1261 - accuracy: 0.8109 - val_loss: 0.1236 - val_accuracy: 0.8103\n",
            "Epoch 26/50\n",
            "60000/60000 [==============================] - 3s 51us/step - loss: 0.1244 - accuracy: 0.8111 - val_loss: 0.1219 - val_accuracy: 0.8104\n",
            "Epoch 27/50\n",
            "60000/60000 [==============================] - 3s 52us/step - loss: 0.1228 - accuracy: 0.8113 - val_loss: 0.1204 - val_accuracy: 0.8107\n",
            "Epoch 28/50\n",
            "60000/60000 [==============================] - 3s 49us/step - loss: 0.1212 - accuracy: 0.8115 - val_loss: 0.1189 - val_accuracy: 0.8110\n",
            "Epoch 29/50\n",
            "60000/60000 [==============================] - 3s 50us/step - loss: 0.1198 - accuracy: 0.8117 - val_loss: 0.1175 - val_accuracy: 0.8110\n",
            "Epoch 30/50\n",
            "60000/60000 [==============================] - 3s 54us/step - loss: 0.1184 - accuracy: 0.8119 - val_loss: 0.1161 - val_accuracy: 0.8112\n",
            "Epoch 31/50\n",
            "60000/60000 [==============================] - 3s 49us/step - loss: 0.1171 - accuracy: 0.8121 - val_loss: 0.1149 - val_accuracy: 0.8113\n",
            "Epoch 32/50\n",
            "60000/60000 [==============================] - 3s 47us/step - loss: 0.1159 - accuracy: 0.8122 - val_loss: 0.1137 - val_accuracy: 0.8115\n",
            "Epoch 33/50\n",
            "60000/60000 [==============================] - 3s 47us/step - loss: 0.1148 - accuracy: 0.8124 - val_loss: 0.1126 - val_accuracy: 0.8115\n",
            "Epoch 34/50\n",
            "60000/60000 [==============================] - 3s 47us/step - loss: 0.1138 - accuracy: 0.8125 - val_loss: 0.1117 - val_accuracy: 0.8118\n",
            "Epoch 35/50\n",
            "60000/60000 [==============================] - 3s 48us/step - loss: 0.1128 - accuracy: 0.8126 - val_loss: 0.1107 - val_accuracy: 0.8118\n",
            "Epoch 36/50\n",
            "60000/60000 [==============================] - 3s 47us/step - loss: 0.1119 - accuracy: 0.8127 - val_loss: 0.1098 - val_accuracy: 0.8119\n",
            "Epoch 37/50\n",
            "60000/60000 [==============================] - 3s 46us/step - loss: 0.1110 - accuracy: 0.8128 - val_loss: 0.1090 - val_accuracy: 0.8119\n",
            "Epoch 38/50\n",
            "60000/60000 [==============================] - 3s 46us/step - loss: 0.1102 - accuracy: 0.8128 - val_loss: 0.1083 - val_accuracy: 0.8121\n",
            "Epoch 39/50\n",
            "60000/60000 [==============================] - 3s 46us/step - loss: 0.1095 - accuracy: 0.8129 - val_loss: 0.1075 - val_accuracy: 0.8121\n",
            "Epoch 40/50\n",
            "60000/60000 [==============================] - 3s 47us/step - loss: 0.1088 - accuracy: 0.8130 - val_loss: 0.1069 - val_accuracy: 0.8122\n",
            "Epoch 41/50\n",
            "60000/60000 [==============================] - 3s 47us/step - loss: 0.1081 - accuracy: 0.8131 - val_loss: 0.1062 - val_accuracy: 0.8122\n",
            "Epoch 42/50\n",
            "60000/60000 [==============================] - 3s 45us/step - loss: 0.1075 - accuracy: 0.8131 - val_loss: 0.1057 - val_accuracy: 0.8123\n",
            "Epoch 43/50\n",
            "60000/60000 [==============================] - 3s 45us/step - loss: 0.1069 - accuracy: 0.8132 - val_loss: 0.1051 - val_accuracy: 0.8123\n",
            "Epoch 44/50\n",
            "60000/60000 [==============================] - 3s 46us/step - loss: 0.1064 - accuracy: 0.8132 - val_loss: 0.1046 - val_accuracy: 0.8124\n",
            "Epoch 45/50\n",
            "60000/60000 [==============================] - 3s 45us/step - loss: 0.1059 - accuracy: 0.8133 - val_loss: 0.1041 - val_accuracy: 0.8124\n",
            "Epoch 46/50\n",
            "60000/60000 [==============================] - 3s 45us/step - loss: 0.1054 - accuracy: 0.8133 - val_loss: 0.1036 - val_accuracy: 0.8125\n",
            "Epoch 47/50\n",
            "60000/60000 [==============================] - 3s 45us/step - loss: 0.1050 - accuracy: 0.8134 - val_loss: 0.1031 - val_accuracy: 0.8125\n",
            "Epoch 48/50\n",
            "60000/60000 [==============================] - 3s 47us/step - loss: 0.1045 - accuracy: 0.8134 - val_loss: 0.1027 - val_accuracy: 0.8125\n",
            "Epoch 49/50\n",
            "60000/60000 [==============================] - 3s 47us/step - loss: 0.1041 - accuracy: 0.8134 - val_loss: 0.1023 - val_accuracy: 0.8125\n",
            "Epoch 50/50\n",
            "60000/60000 [==============================] - 3s 46us/step - loss: 0.1038 - accuracy: 0.8135 - val_loss: 0.1020 - val_accuracy: 0.8126\n"
          ],
          "name": "stdout"
        },
        {
          "output_type": "execute_result",
          "data": {
            "text/plain": [
              "<keras.callbacks.callbacks.History at 0x7f762fd2ba90>"
            ]
          },
          "metadata": {
            "tags": []
          },
          "execution_count": 54
        }
      ]
    },
    {
      "cell_type": "code",
      "metadata": {
        "id": "P5k0sTuGvsEH",
        "colab_type": "code",
        "colab": {}
      },
      "source": [
        "# encode and decode some digits\n",
        "# note that we take them from the *test* set\n",
        "encoded_imgs = encoder.predict(x_test)\n",
        "decoded_imgs = decoder.predict(encoded_imgs)"
      ],
      "execution_count": 55,
      "outputs": []
    },
    {
      "cell_type": "code",
      "metadata": {
        "id": "Bhv86RATxvfA",
        "colab_type": "code",
        "colab": {
          "base_uri": "https://localhost:8080/",
          "height": 149
        },
        "outputId": "74334130-b68b-4350-91c3-732cad2e1c8a"
      },
      "source": [
        "import matplotlib.pyplot as plt\n",
        "\n",
        "n = 10  # how many digits we will display\n",
        "plt.figure(figsize=(20, 4))\n",
        "for i in range(n):\n",
        "    # display original\n",
        "    ax = plt.subplot(2, n, i + 1)\n",
        "    plt.imshow(x_test[i].reshape(28, 28))\n",
        "    plt.gray()\n",
        "    ax.get_xaxis().set_visible(False)\n",
        "    ax.get_yaxis().set_visible(False)\n",
        "\n",
        "    # display reconstruction\n",
        "    ax = plt.subplot(2, n, i + 1 + n)\n",
        "    plt.imshow(decoded_imgs[i].reshape(28, 28))\n",
        "    plt.gray()\n",
        "    ax.get_xaxis().set_visible(False)\n",
        "    ax.get_yaxis().set_visible(False)\n",
        "plt.show()"
      ],
      "execution_count": 56,
      "outputs": [
        {
          "output_type": "display_data",
          "data": {
            "image/png": "[encoded data removed]",
            "text/plain": [
              "<Figure size 1440x288 with 20 Axes>"
            ]
          },
          "metadata": {
            "tags": [],
            "needs_background": "light"
          }
        }
      ]
    },
    {
      "cell_type": "code",
      "metadata": {
        "id": "en7WzbOPx2PQ",
        "colab_type": "code",
        "colab": {}
      },
      "source": [
        ""
      ],
      "execution_count": 56,
      "outputs": []
    }
  ]
}